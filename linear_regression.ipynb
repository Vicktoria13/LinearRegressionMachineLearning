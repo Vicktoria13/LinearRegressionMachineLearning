{
 "cells": [
  {
   "cell_type": "code",
   "execution_count": 34,
   "metadata": {},
   "outputs": [
    {
     "name": "stdout",
     "output_type": "stream",
     "text": [
      "The autoreload extension is already loaded. To reload it, use:\n",
      "  %reload_ext autoreload\n"
     ]
    }
   ],
   "source": [
    "# Useful starting lines\n",
    "%matplotlib inline\n",
    "import numpy as np\n",
    "np.random.seed(42)\n",
    "import matplotlib.pyplot as plt\n",
    "%load_ext autoreload\n",
    "%autoreload 2"
   ]
  },
  {
   "attachments": {},
   "cell_type": "markdown",
   "metadata": {},
   "source": [
    "Librairies are in. Now let's imoport the data\n"
   ]
  },
  {
   "cell_type": "code",
   "execution_count": 35,
   "metadata": {},
   "outputs": [
    {
     "name": "stdout",
     "output_type": "stream",
     "text": [
      "[[6.3200e-03 1.8000e+01 2.3100e+00 ... 1.5300e+01 3.9690e+02 4.9800e+00]\n",
      " [2.7310e-02 0.0000e+00 7.0700e+00 ... 1.7800e+01 3.9690e+02 9.1400e+00]\n",
      " [2.7290e-02 0.0000e+00 7.0700e+00 ... 1.7800e+01 3.9283e+02 4.0300e+00]\n",
      " ...\n",
      " [6.0760e-02 0.0000e+00 1.1930e+01 ... 2.1000e+01 3.9690e+02 5.6400e+00]\n",
      " [1.0959e-01 0.0000e+00 1.1930e+01 ... 2.1000e+01 3.9345e+02 6.4800e+00]\n",
      " [4.7410e-02 0.0000e+00 1.1930e+01 ... 2.1000e+01 3.9690e+02 7.8800e+00]]\n"
     ]
    }
   ],
   "source": [
    "import pandas as pd\n",
    "import numpy as np\n",
    "data_url = \"http://lib.stat.cmu.edu/datasets/boston\"\n",
    "raw_df = pd.read_csv(data_url, sep=\"\\s+\", skiprows=22, header=None)\n",
    "data = np.hstack([raw_df.values[::2, :], raw_df.values[1::2, :2]])\n",
    "target = raw_df.values[1::2, 2]\n",
    "\n",
    "print(data)"
   ]
  },
  {
   "cell_type": "code",
   "execution_count": 36,
   "metadata": {},
   "outputs": [
    {
     "name": "stdout",
     "output_type": "stream",
     "text": [
      "Shape of the data sample matrix X: (506, 13)\n",
      "**\n",
      "The number of data samples is N: 475\n",
      "The number of features is D: 12\n",
      "\n",
      "Shape of the labels vector y: (475,)\n",
      "\n",
      "First data sample in X: [6.320e-03 1.800e+01 2.310e+00 5.380e-01 6.575e+00 6.520e+01 4.090e+00\n",
      " 1.000e+00 2.960e+02 1.530e+01 3.969e+02 4.980e+00]\n",
      "First label in y: 24.0\n"
     ]
    }
   ],
   "source": [
    "X = data\n",
    "y = target\n",
    "\n",
    "print(\"Shape of the data sample matrix X:\", X.shape)\n",
    "#(475,13) : 475 lignes et 13 colonnes\n",
    "#print(X[:,3]);\n",
    "\n",
    "# remove categorical feature\n",
    "\n",
    "X = np.delete(X, 3, axis=1) #on enleve la 3e colonne car que des 0\n",
    "# on eleve le 3 sur l'axe 1 ( voir schéma cours avant)\n",
    "\n",
    "# removing second mode\n",
    "\n",
    "print(\"**\")\n",
    "ind = y<40 # tableau de meme dimension que y avec True si l'element < 40, false sinon\n",
    "X = X[ind,:]\n",
    "y = y[ind]\n",
    "\n",
    "\n",
    "\n",
    "\n",
    "N = X.shape[0]\n",
    "D = X.shape[1]\n",
    "print(\"The number of data samples is N:\", N)\n",
    "print(\"The number of features is D:\", D)\n",
    "\n",
    "\n",
    "print(\"\\nShape of the labels vector y:\", y.shape)\n",
    "\n",
    "print(\"\\nFirst data sample in X:\", X[0,:]) #intersection entre 1 ligne et toutes les colonnes -> 1ere ligne\n",
    "print(\"First label in y:\", y[0])\n",
    "\n"
   ]
  },
  {
   "attachments": {},
   "cell_type": "markdown",
   "metadata": {},
   "source": [
    "Let's set aside 80% of the data for training and 20% for testing. \n"
   ]
  },
  {
   "cell_type": "code",
   "execution_count": 37,
   "metadata": {},
   "outputs": [
    {
     "name": "stdout",
     "output_type": "stream",
     "text": [
      "(475, 12)\n"
     ]
    }
   ],
   "source": [
    "split_ratio = 0.8\n",
    "print(X.shape)\n",
    "# Step 1:\n",
    "indices = np.arange(X.shape[0]) #tableau1D de 0 a 474\n",
    "\n",
    "# Step 2:\n",
    "np.random.shuffle(indices) #on melange\n",
    "\n",
    "# Step 3:\n",
    "X_train    = X[indices[0:int(N*split_ratio)],:] \n",
    "y_train    = y[indices[0:int(N*split_ratio)]] \n",
    "X_test     = X[indices[int(N*(split_ratio)):],:] \n",
    "y_test     = y[indices[int(N*(split_ratio)):]] "
   ]
  },
  {
   "cell_type": "code",
   "execution_count": 38,
   "metadata": {},
   "outputs": [
    {
     "name": "stdout",
     "output_type": "stream",
     "text": [
      "380\n",
      "[[8.82600e-02 0.00000e+00 1.08100e+01 ... 1.92000e+01 3.83730e+02\n",
      "  6.72000e+00]\n",
      " [3.84970e+00 0.00000e+00 1.81000e+01 ... 2.02000e+01 3.91340e+02\n",
      "  1.32700e+01]\n",
      " [3.25430e-01 0.00000e+00 2.18900e+01 ... 2.12000e+01 3.96900e+02\n",
      "  1.53900e+01]\n",
      " ...\n",
      " [1.49632e+00 0.00000e+00 1.95800e+01 ... 1.47000e+01 3.41600e+02\n",
      "  1.32800e+01]\n",
      " [4.81213e+00 0.00000e+00 1.81000e+01 ... 2.02000e+01 2.55230e+02\n",
      "  1.64200e+01]\n",
      " [4.64689e+00 0.00000e+00 1.81000e+01 ... 2.02000e+01 3.74680e+02\n",
      "  1.16600e+01]]\n"
     ]
    }
   ],
   "source": [
    "split_ratio = 0.8\n",
    "#80% for the training et 20% pour l'entrainement.\n",
    "#on a d'abord mélanger tous les indices , puis on a pris les 80 premiers %. les 20% pourcents sont laissés\n",
    "# pour le test\n",
    "\n",
    "\n",
    "# Step 1:\n",
    "indices = np.arange(N)\n",
    "#creer un tableau commencant a 0 jusqu'a N-1 : 474\n",
    "\n",
    "np.random.shuffle(indices) #on melange aleatoirement\n",
    "\n",
    "\n",
    "# Step 3:\n",
    "X_train    = X[indices[0:int(N*split_ratio)] , :] \n",
    "y_train    = y[indices[0:int(N*split_ratio)]] \n",
    "\n",
    "print(int(N*split_ratio)) #380 : 80% de 474\n",
    "#print(indices[0:int(N*split_ratio)] ) # les 380 premieres valeurs du tableau indices mélangé\n",
    "\n",
    "print(X_train) # on a pris X[indices[0]], puis X[indices[1]]...X[indices[380]]\n",
    "#il s'agit de tableau dans un tableau !\n",
    "\n",
    "\n",
    "# Split the test data using the remaining indices!\n",
    "\n",
    "\n",
    "X_test     = X[indices[int(N*split_ratio):],:]#YOUR CODE HERE\n",
    "y_test     = y[indices[int(N*split_ratio):]] #YOUR CODE HERE"
   ]
  },
  {
   "cell_type": "code",
   "execution_count": 39,
   "metadata": {},
   "outputs": [
    {
     "name": "stdout",
     "output_type": "stream",
     "text": [
      "(380, 12)\n",
      "(380,)\n",
      "(95, 12)\n",
      "(95,)\n"
     ]
    }
   ],
   "source": [
    "print(X_train.shape)\n",
    "print(y_train.shape)\n",
    "print(X_test.shape)\n",
    "print(y_test.shape)"
   ]
  },
  {
   "attachments": {},
   "cell_type": "markdown",
   "metadata": {},
   "source": [
    "After, we normalize the data such that each feature has zero mean and unit standard deviation. (Since you have not seen this in the lectures yet, we have provided the code for you. "
   ]
  },
  {
   "cell_type": "code",
   "execution_count": 40,
   "metadata": {},
   "outputs": [
    {
     "data": {
      "text/plain": [
       "Text(0.5, 1.0, 'Attribute $X_4$ vs Price $y$')"
      ]
     },
     "execution_count": 40,
     "metadata": {},
     "output_type": "execute_result"
    },
    {
     "data": {
      "image/png": "[encoded data removed]",
      "text/plain": [
       "<Figure size 640x480 with 1 Axes>"
      ]
     },
     "metadata": {},
     "output_type": "display_data"
    }
   ],
   "source": [
    "# Exploratory analysis of the data. Have a look at the distribution of prices vs features\n",
    "\n",
    "feature =4\n",
    "#print(X_train[:,feature]) # intersection entre toutes les lignes, et la colonne 4 --> colonne 4 soit average number of rooms per dwelling\n",
    "plt.scatter(X_train[:,feature], y_train)\n",
    "plt.xlabel(f\"Attribute $X_{feature}$\")\n",
    "plt.ylabel(\"Price $y$\")\n",
    "\n",
    "plt.title(f\"Attribute $X_{feature}$ vs Price $y$\")\n",
    "\n",
    "#forme linéaire\n",
    "# les prix sont plafonnés par 40\n",
    "#l'attribut 4 est le nombre de chambre par logement\n",
    "\n",
    "# donc en traçant, on a une forme quasi linéaire"
   ]
  },
  {
   "cell_type": "code",
   "execution_count": 41,
   "metadata": {},
   "outputs": [
    {
     "data": {
      "text/plain": [
       "Text(0.5, 1.0, 'Attribute $X_11$ vs Price $y$')"
      ]
     },
     "execution_count": 41,
     "metadata": {},
     "output_type": "execute_result"
    },
    {
     "data": {
      "image/png": "[encoded data removed]",
      "text/plain": [
       "<Figure size 640x480 with 1 Axes>"
      ]
     },
     "metadata": {},
     "output_type": "display_data"
    }
   ],
   "source": [
    "# Exploratory analysis of the data. Have a look at the distribution of prices vs features\n",
    "\n",
    "feature =11\n",
    "plt.scatter(X_train[:,feature], y_train) #on trace la 11e colonne en fonction du la donnée target (prix)\n",
    "plt.xlabel(f\"Attribute $X_{feature}$\")\n",
    "plt.ylabel(\"Price $y$\")\n",
    "plt.title(f\"Attribute $X_{feature}$ vs Price $y$\")\n",
    "#negative correlation entre entrée et sortie"
   ]
  },
  {
   "attachments": {},
   "cell_type": "markdown",
   "metadata": {},
   "source": [
    "The relations between feature values and house prices differ across the different features. Some features (e.g. 4) are positively correlated with the house prices, some (e.g. 11) are negatively correlated. For many others a clear trend is hard to spot by mere inspection.\n",
    "\n",
    "\n"
   ]
  },
  {
   "attachments": {},
   "cell_type": "markdown",
   "metadata": {},
   "source": [
    "# 2.2 Closed-form solution for linear regression\n",
    "\n",
    "\n",
    "The linear regression method has a closed form, analytical solution, as we have also seen in class.\n",
    "\n",
    "$$ \\mathbf{w^*} = (\\mathbf{X}^T\\mathbf{X})^{-1}\\mathbf{X}^T\\mathbf{y} $$\n",
    "\n",
    "\n",
    "Now let's code the analytical solution in the function `get_w_analytical` and to obtain the weight parameters $\\mathbf{w}$. Tip: You may want to use the function np.linalg.pinv. \n",
    "\n",
    "$$ (\\mathbf{X}^T\\mathbf{X})^{-1}\\mathbf{X}^T $$ \n",
    "\n",
    "est de dimension (12,380) ici, donc en sortie, w* est bien un vecteur colonne de 12 "
   ]
  },
  {
   "cell_type": "code",
   "execution_count": 42,
   "metadata": {},
   "outputs": [],
   "source": [
    "def get_w_analytical(X_train,y_train):\n",
    "    \"\"\"\n",
    "    compute the weight parameters w\n",
    "    \"\"\"\n",
    "        \n",
    "    # compute w via the analytical solution\n",
    "    # This is for you to implement in your project\n",
    "    w = np.linalg.pinv(X_train) @ y_train## YOUR CODE HERE\n",
    "    print(\"w vaut\",w)\n",
    "    print(w.shape) #vecteur 1 ligne de 12 colonnes\n",
    "    return w\n",
    "\n",
    "#normalement n nous avons en entrée un vecteur de taille 12 (vecteur colonne) donc w aussi\n",
    "\n",
    "#C = A@B renvoie le produit matricielle\n",
    "#np.linalg.pinv(X_train) renvoie 𝐗^T𝐗⁻1 * 𝐗^T\n",
    "\n",
    "#pas besoin de preciser la transposé , le produit matricielle s'en charge ?\n",
    "# w a donc 12 coefficients\n"
   ]
  },
  {
   "attachments": {},
   "cell_type": "markdown",
   "metadata": {},
   "source": [
    "To assess our method's performance, we'll be using the mean squared error (MSE). \n",
    "\n",
    "$$ MSE = \\frac{1}{N}\\sum_{i=1}^N (\\hat{y}_i - y_i)^2$$\n",
    "\n",
    "where our prediction $\\hat{y}_i = \\mathbf{x}_i^T \\cdot \\mathbf{w} $.\n",
    "\n"
   ]
  },
  {
   "cell_type": "code",
   "execution_count": 43,
   "metadata": {},
   "outputs": [],
   "source": [
    "\n",
    "def get_loss(w, X_train, y_train,X_test,y_test):\n",
    "    print(\"renvoie l'erreur quadratique moyenne\")\n",
    "    loss_train = (np.mean((y_train-X_train@w)**2))\n",
    "    loss_test = (np.mean((y_test-X_test@w)**2))\n",
    "    print(\"The training loss is {}. The test loss is {}.\".format(loss_train, loss_test))\n",
    "\n",
    "    return loss_test\n",
    "\n",
    "# attention: en prenant yi=xi*w, on oublie l'ordonnée a l'origine (= bias term)"
   ]
  },
  {
   "cell_type": "code",
   "execution_count": 44,
   "metadata": {},
   "outputs": [
    {
     "name": "stdout",
     "output_type": "stream",
     "text": [
      "w vaut [-0.114356    0.03937632 -0.03856178  0.20920492  5.11753667 -0.03380415\n",
      " -0.62443395  0.09817067 -0.01104306 -0.20170145  0.01096571 -0.19387139]\n",
      "(12,)\n",
      "renvoie l'erreur quadratique moyenne\n",
      "The training loss is 12.239353198960956. The test loss is 17.21840158753473.\n"
     ]
    },
    {
     "data": {
      "text/plain": [
       "17.21840158753473"
      ]
     },
     "execution_count": 44,
     "metadata": {},
     "output_type": "execute_result"
    }
   ],
   "source": [
    "#Let's test our code!\n",
    "w_ana = get_w_analytical(X_train,y_train)\n",
    "\n",
    "\n",
    "get_loss(w_ana, X_train,y_train, X_test,y_test)"
   ]
  },
  {
   "attachments": {},
   "cell_type": "markdown",
   "metadata": {},
   "source": [
    "The error of 400 is quite high! Note however that, in contrast to what we have seen in the lectures, we did not use any bias term $\\text{w}^{(0)}$. Let's see whether we can reduce the error by including a bias term.\n",
    "\n",
    "First, let's look more closely at what happens without a bias term. Formally, without a bias term, we are fitting a hyperplane that always passes through the origin. This is because our predictions can be expressed as\n",
    "$$ \\hat{y}_i = \\text{w}^{(1)}x_i^{(1)} +  \\text{w}^{(2)}x_i^{(2)} + ... + \\text{w}^{(12)}x_i^{(12)} $$\n",
    "\n",
    "or\n",
    "\n",
    "$$ \\hat{y}_i = \\mathbf{x}_i^T \\cdot \\mathbf{w} $$ \n",
    "\n",
    "Therefore, when $\\mathbf{x}_i=\\mathbf{0}$, $\\hat{y}_i= 0$, no matter what values $\\mathbf{w}$ takes. That's not ideal!\n",
    "\n",
    "Note: If you are confused about the transpose operation in $\\hat{y}_i = \\mathbf{x}_i^T \\cdot \\mathbf{w}$ above, here are the shapes of the matrices that are being multiplied:  \n",
    "* $\\mathbf{w}$ is DX1 \n",
    "* $\\mathbf{x}_i$ is DX1 (A reminder: The entire data $\\mathbf{X}$ is NXD, but when we select a single data sample from it, we express it as a column vector!) \n",
    "* The result $\\hat{y}_i$ is 1x1\n",
    "\n",
    "\n"
   ]
  },
  {
   "attachments": {},
   "cell_type": "markdown",
   "metadata": {},
   "source": [
    "**Introducing the bias term:**\n",
    "        \n",
    "It would be a lot nicer if our predicted hyperplane didn't always have to pass through the origin. In math words:\n",
    "\n",
    "$$ \\hat{y}_i = \\text{w}^{(0)} + \\text{w}^{(1)}x_i^{(1)} +  \\text{w}^{(2)}x_i^{(2)} + ... + \\text{w}^{(12)}x_i^{(12)} $$\n",
    "\n",
    "Here, the $\\text{w}^{(0)}$ is the y-intercept. When $\\mathbf{x}_i=\\mathbf{0}$, $y_i= \\text{w}^{(0)}$. Neat!\n",
    "\n",
    "\n",
    "To handle this, we can add a column of 1s as a feature in our data $\\mathbf{X}$. This way, we could just say that the last feature $x_i^{(0)} = 1$ and\n",
    "\n",
    "$$ \\hat{y}_i = \\text{w}^{(0)}\\cdot 1 + \\text{w}^{(1)}x_i^{(1)} +  \\text{w}^{(2)}x_i^{(2)} + ... + \\text{w}^{(12)}x_i^{(12)} $$\n",
    "\n",
    "$$ \\hat{y}_i = \\text{w}^{(0)}x_i^{(0)} + \\text{w}^{(1)}x_i^{(1)} +  \\text{w}^{(2)}x_i^{(2)} + ... + \\text{w}^{(12)}x_i^{(12)} $$\n",
    "\n",
    "$$ \\hat{y}_i = \\mathbf{x}_i^T \\cdot \\mathbf{w} $$ \n",
    "\n",
    "\n",
    "\n",
    "\n",
    "\n",
    "\n",
    "\n"
   ]
  },
  {
   "cell_type": "code",
   "execution_count": 59,
   "metadata": {},
   "outputs": [],
   "source": [
    "def append_bias_term(X_train):\n",
    "    #prend un tableau de 380 lignes et 12 colonnes et u ajoute une colonne de 1\n",
    "    #tel que chaque ligne devient de taille 13\n",
    "    #chaque ligne xi devient xi,1\n",
    "\n",
    "    # cree un tableau de 380 lignes et 1 colonne rempli de 1\n",
    "\n",
    "    ones_column = np.ones([X_train.shape[0],1])# 380 lignes et 1 colonne\n",
    "\n",
    "    #concatene le tableau de 380 lignes et 1 colonne avec le tableau de 380 lignes et 12 colonnes\n",
    "    #axis=1 : on concatene sur les colonnes\n",
    "    X_train_bias = np.concatenate((X_train,ones_column),axis=1)\n",
    "    return X_train_bias"
   ]
  },
  {
   "cell_type": "code",
   "execution_count": 60,
   "metadata": {},
   "outputs": [
    {
     "name": "stdout",
     "output_type": "stream",
     "text": [
      " Avant :  (380, 12)\n",
      "(380, 1)\n",
      "(95, 1)\n",
      " Apres :  (380, 13)\n"
     ]
    }
   ],
   "source": [
    "print(\" Avant : \" , X_train.shape)\n",
    "\n",
    "X_train_bias = append_bias_term(X_train)\n",
    "X_test_bias = append_bias_term(X_test)\n",
    "\n",
    "print(\" Apres : \" ,X_train_bias.shape)\n"
   ]
  },
  {
   "cell_type": "code",
   "execution_count": 54,
   "metadata": {},
   "outputs": [
    {
     "name": "stdout",
     "output_type": "stream",
     "text": [
      "[[8.82600e-02 0.00000e+00 1.08100e+01 ... 3.83730e+02 6.72000e+00\n",
      "  1.00000e+00]\n",
      " [3.84970e+00 0.00000e+00 1.81000e+01 ... 3.91340e+02 1.32700e+01\n",
      "  1.00000e+00]\n",
      " [3.25430e-01 0.00000e+00 2.18900e+01 ... 3.96900e+02 1.53900e+01\n",
      "  1.00000e+00]\n",
      " ...\n",
      " [1.49632e+00 0.00000e+00 1.95800e+01 ... 3.41600e+02 1.32800e+01\n",
      "  1.00000e+00]\n",
      " [4.81213e+00 0.00000e+00 1.81000e+01 ... 2.55230e+02 1.64200e+01\n",
      "  1.00000e+00]\n",
      " [4.64689e+00 0.00000e+00 1.81000e+01 ... 3.74680e+02 1.16600e+01\n",
      "  1.00000e+00]]\n"
     ]
    }
   ],
   "source": [
    "print(X_train_bias)"
   ]
  },
  {
   "cell_type": "code",
   "execution_count": 61,
   "metadata": {},
   "outputs": [
    {
     "name": "stdout",
     "output_type": "stream",
     "text": [
      "w vaut [-1.21409408e-01  4.31586499e-02 -1.20077171e-04 -1.40580181e+01\n",
      "  2.44589754e+00 -2.20905229e-02 -1.17319528e+00  2.52318520e-01\n",
      " -1.46482302e-02 -7.05702315e-01  5.18519789e-03 -3.63293104e-01\n",
      "  3.91883068e+01]\n",
      "(13,)\n",
      "renvoie l'erreur quadratique moyenne\n",
      "The training loss is 9.927412041848186. The test loss is 13.836705101434681.\n"
     ]
    },
    {
     "data": {
      "text/plain": [
       "13.836705101434681"
      ]
     },
     "execution_count": 61,
     "metadata": {},
     "output_type": "execute_result"
    }
   ],
   "source": [
    "w_ana = get_w_analytical(X_train_bias,y_train)\n",
    "\n",
    "get_loss(w_ana, X_train_bias,y_train, X_test_bias,y_test)"
   ]
  },
  {
   "attachments": {},
   "cell_type": "markdown",
   "metadata": {},
   "source": [
    "# Using sklearn"
   ]
  },
  {
   "cell_type": "code",
   "execution_count": 63,
   "metadata": {},
   "outputs": [
    {
     "name": "stdout",
     "output_type": "stream",
     "text": [
      "Coefficients:  [-1.21409408e-01  4.31586499e-02 -1.20077171e-04 -1.40580181e+01\n",
      "  2.44589754e+00 -2.20905229e-02 -1.17319528e+00  2.52318520e-01\n",
      " -1.46482302e-02 -7.05702315e-01  5.18519789e-03 -3.63293104e-01]\n",
      "MSE of sklearn linear regression model on test data:  13.836705101435026\n"
     ]
    }
   ],
   "source": [
    "from sklearn.linear_model import LinearRegression\n",
    "from sklearn import metrics\n",
    "\n",
    "# Step 1: Create a linear regression model using sklearn\n",
    "model = LinearRegression()\n",
    "\n",
    "# Step 2: Train the model using the training sets\n",
    "model.fit(X_train,y_train)\n",
    "\n",
    "# Step 3: Make predictions using the testing set\n",
    "y_hat = model.predict(X_test)\n",
    "\n",
    "\n",
    "\n",
    "# The coefficients : w1,w2,w3,w4,w5,w6,w7,w8,w9,w10,w11,w12\n",
    "print('Coefficients: ', model.coef_)\n",
    "\n",
    "\n",
    "print('MSE of sklearn linear regression model on test data: ' , metrics.mean_squared_error(y_test,y_hat))"
   ]
  }
 ],
 "metadata": {
  "kernelspec": {
   "display_name": "base",
   "language": "python",
   "name": "python3"
  },
  "language_info": {
   "codemirror_mode": {
    "name": "ipython",
    "version": 3
   },
   "file_extension": ".py",
   "mimetype": "text/x-python",
   "name": "python",
   "nbconvert_exporter": "python",
   "pygments_lexer": "ipython3",
   "version": "3.9.12"
  },
  "orig_nbformat": 4,
  "vscode": {
   "interpreter": {
    "hash": "942a437b6f164f3317950c5b05626b294e2678efe68e3eb39a97c9e9661aa04b"
   }
  }
 },
 "nbformat": 4,
 "nbformat_minor": 2
}
